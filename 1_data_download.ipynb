{
 "cells": [
  {
   "cell_type": "code",
   "execution_count": 1,
   "metadata": {},
   "outputs": [],
   "source": [
    "!mkdir -p /home/group13/.kaggle\n",
    "!mv kaggle.json /home/group13/.kaggle/\n",
    "!chmod 600 /home/group13/.kaggle/kaggle.json"
   ]
  },
  {
   "cell_type": "code",
   "execution_count": 2,
   "metadata": {},
   "outputs": [
    {
     "name": "stdout",
     "output_type": "stream",
     "text": [
      "Dataset URL: https://www.kaggle.com/datasets/dhanushnarayananr/credit-card-fraud\n",
      "License(s): CC0-1.0\n",
      "Downloading credit-card-fraud.zip to /home/group13/data\n",
      " 93%|████████████████████████████████████▍  | 27.0M/28.9M [00:00<00:00, 270MB/s]\n",
      "100%|███████████████████████████████████████| 28.9M/28.9M [00:00<00:00, 253MB/s]\n",
      "Archive:  /home/group13/data/credit-card-fraud.zip\n",
      "  inflating: /home/group13/data/card_transdata.csv  \n"
     ]
    }
   ],
   "source": [
    "!mkdir -p /home/group13/data\n",
    "!kaggle datasets download dhanushnarayananr/credit-card-fraud -p /home/group13/data\n",
    "!unzip /home/group13/data/credit-card-fraud.zip -d /home/group13/data"
   ]
  },
  {
   "cell_type": "code",
   "execution_count": null,
   "metadata": {},
   "outputs": [],
   "source": []
  }
 ],
 "metadata": {
  "kernelspec": {
   "display_name": "Python 3 (ipykernel)",
   "language": "python",
   "name": "python3"
  },
  "language_info": {
   "codemirror_mode": {
    "name": "ipython",
    "version": 3
   },
   "file_extension": ".py",
   "mimetype": "text/x-python",
   "name": "python",
   "nbconvert_exporter": "python",
   "pygments_lexer": "ipython3",
   "version": "3.8.10"
  }
 },
 "nbformat": 4,
 "nbformat_minor": 4
}
