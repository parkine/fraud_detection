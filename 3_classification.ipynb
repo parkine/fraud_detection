{
 "cells": [
  {
   "cell_type": "code",
   "execution_count": 1,
   "metadata": {},
   "outputs": [
    {
     "name": "stdout",
     "output_type": "stream",
     "text": [
      "%pylab is deprecated, use %matplotlib inline and import the required libraries.\n",
      "Populating the interactive namespace from numpy and matplotlib\n"
     ]
    },
    {
     "name": "stderr",
     "output_type": "stream",
     "text": [
      "/usr/local/lib/python3.8/dist-packages/IPython/core/magics/pylab.py:162: UserWarning: pylab import has clobbered these variables: ['pylab']\n",
      "`%matplotlib` prevents importing * from pylab and numpy\n",
      "  warn(\"pylab import has clobbered these variables: %s\"  % clobbered +\n"
     ]
    }
   ],
   "source": [
    "import pandas as pd\n",
    "import pylab\n",
    "import sklearn as sk\n",
    "%pylab inline\n",
    "\n",
    "df = pd.read_csv('./data/card_transdata.csv')"
   ]
  },
  {
   "cell_type": "code",
   "execution_count": 2,
   "metadata": {},
   "outputs": [],
   "source": [
    "from sklearn.model_selection import train_test_split\n",
    "\n",
    "#divide the dataset into train and test data set\n",
    "\n",
    "#divide target class and the rest of features\n",
    "X = df.drop(\"fraud\", axis=1)\n",
    "y = df[\"fraud\"]\n",
    "\n",
    "#divide the dataset into train and test data set\n",
    "X_train, X_test, y_train, y_test = train_test_split(X, y, test_size=0.2, random_state=22, stratify=y)"
   ]
  },
  {
   "cell_type": "code",
   "execution_count": 3,
   "metadata": {},
   "outputs": [],
   "source": [
    "from sklearn.naive_bayes import MultinomialNB\n",
    "from sklearn.tree import DecisionTreeClassifier\n",
    "from sklearn.ensemble import RandomForestClassifier\n",
    "from sklearn.metrics import recall_score\n",
    "from sklearn.metrics import confusion_matrix"
   ]
  },
  {
   "cell_type": "code",
   "execution_count": 4,
   "metadata": {},
   "outputs": [
    {
     "name": "stdout",
     "output_type": "stream",
     "text": [
      "<class 'pandas.core.frame.DataFrame'>\n",
      "RangeIndex: 1000000 entries, 0 to 999999\n",
      "Data columns (total 7 columns):\n",
      " #   Column                          Non-Null Count    Dtype  \n",
      "---  ------                          --------------    -----  \n",
      " 0   distance_from_home              1000000 non-null  float64\n",
      " 1   distance_from_last_transaction  1000000 non-null  float64\n",
      " 2   ratio_to_median_purchase_price  1000000 non-null  float64\n",
      " 3   repeat_retailer                 1000000 non-null  float64\n",
      " 4   used_chip                       1000000 non-null  float64\n",
      " 5   used_pin_number                 1000000 non-null  float64\n",
      " 6   online_order                    1000000 non-null  float64\n",
      "dtypes: float64(7)\n",
      "memory usage: 53.4 MB\n"
     ]
    }
   ],
   "source": [
    "X[:10]\n",
    "X.info()"
   ]
  },
  {
   "cell_type": "code",
   "execution_count": 5,
   "metadata": {},
   "outputs": [
    {
     "name": "stdout",
     "output_type": "stream",
     "text": [
      "CPU times: user 129 ms, sys: 170 ms, total: 299 ms\n",
      "Wall time: 296 ms\n"
     ]
    }
   ],
   "source": [
    "%%time\n",
    "# train the MultinomialNB model \n",
    "nb_model = MultinomialNB().fit(X_train, y_train)"
   ]
  },
  {
   "cell_type": "code",
   "execution_count": 6,
   "metadata": {},
   "outputs": [
    {
     "name": "stdout",
     "output_type": "stream",
     "text": [
      "CPU times: user 2.05 s, sys: 57.2 ms, total: 2.11 s\n",
      "Wall time: 2.08 s\n"
     ]
    }
   ],
   "source": [
    "%%time\n",
    "# train the DecisionTree model \n",
    "dt_model = DecisionTreeClassifier().fit(X_train, y_train)"
   ]
  },
  {
   "cell_type": "code",
   "execution_count": 7,
   "metadata": {},
   "outputs": [
    {
     "name": "stdout",
     "output_type": "stream",
     "text": [
      "CPU times: user 1min 4s, sys: 1.28 s, total: 1min 5s\n",
      "Wall time: 1min 6s\n"
     ]
    }
   ],
   "source": [
    "%%time\n",
    "# train the RandomForest model \n",
    "rf_model = RandomForestClassifier().fit(X_train, y_train)"
   ]
  },
  {
   "cell_type": "code",
   "execution_count": 8,
   "metadata": {},
   "outputs": [
    {
     "name": "stdout",
     "output_type": "stream",
     "text": [
      "CPU times: user 305 ms, sys: 23.1 ms, total: 328 ms\n",
      "Wall time: 42.1 ms\n"
     ]
    }
   ],
   "source": [
    "%%time\n",
    "# MultinomialNB model prediction\n",
    "nb_preds = nb_model.predict(X_test)"
   ]
  },
  {
   "cell_type": "code",
   "execution_count": 9,
   "metadata": {},
   "outputs": [
    {
     "name": "stdout",
     "output_type": "stream",
     "text": [
      "CPU times: user 60.5 ms, sys: 484 µs, total: 60.9 ms\n",
      "Wall time: 7.4 ms\n"
     ]
    }
   ],
   "source": [
    "%%time\n",
    "# MultinomialNB model prediction\n",
    "dt_preds = dt_model.predict(X_test)"
   ]
  },
  {
   "cell_type": "code",
   "execution_count": 10,
   "metadata": {
    "scrolled": true
   },
   "outputs": [
    {
     "name": "stdout",
     "output_type": "stream",
     "text": [
      "CPU times: user 1.57 s, sys: 308 µs, total: 1.57 s\n",
      "Wall time: 732 ms\n"
     ]
    }
   ],
   "source": [
    "%%time\n",
    "# MultinomialNB model prediction\n",
    "rf_preds = rf_model.predict(X_test)"
   ]
  },
  {
   "cell_type": "code",
   "execution_count": 11,
   "metadata": {},
   "outputs": [
    {
     "name": "stdout",
     "output_type": "stream",
     "text": [
      "nb_recall = 0.9793720105851994\n",
      "dt_recall = 1.0\n",
      "rf_recall = 1.0\n"
     ]
    }
   ],
   "source": [
    "#recall of each model\n",
    "nb_recall = recall_score(y_test, nb_preds, pos_label=0)\n",
    "dt_recall = recall_score(y_test, dt_preds, pos_label=0)\n",
    "rf_recall = recall_score(y_test, rf_preds, pos_label=0)\n",
    "\n",
    "print(f\"nb_recall = {nb_recall}\")\n",
    "print(f\"dt_recall = {dt_recall}\")\n",
    "print(f\"rf_recall = {rf_recall}\")"
   ]
  },
  {
   "cell_type": "code",
   "execution_count": 12,
   "metadata": {},
   "outputs": [
    {
     "name": "stdout",
     "output_type": "stream",
     "text": [
      "nb_accuracy = 0.91979\n",
      "dt_accuracy = 0.99997\n",
      "rf_accuracy = 0.99998\n"
     ]
    }
   ],
   "source": [
    "# accuracy of each model\n",
    "nb_accuracy = nb_model.score(X_test, y_test)\n",
    "dt_accuracy = dt_model.score(X_test, y_test)\n",
    "rf_accuracy = rf_model.score(X_test, y_test)\n",
    "\n",
    "print(f\"nb_accuracy = {nb_accuracy}\")\n",
    "print(f\"dt_accuracy = {dt_accuracy}\")\n",
    "print(f\"rf_accuracy = {rf_accuracy}\")"
   ]
  },
  {
   "cell_type": "code",
   "execution_count": 13,
   "metadata": {},
   "outputs": [
    {
     "name": "stdout",
     "output_type": "stream",
     "text": [
      "nb confusion matrix: \n",
      " [[178754   3765]\n",
      " [ 12277   5204]]\n",
      "\n",
      "dt confusion matrix: \n",
      " [[182519      0]\n",
      " [     6  17475]]\n",
      "\n",
      "rf confusion matrix: \n",
      " [[182519      0]\n",
      " [     4  17477]]\n",
      "\n"
     ]
    }
   ],
   "source": [
    "nb_cm = confusion_matrix(y_test, nb_preds)\n",
    "dt_cm = confusion_matrix(y_test, dt_preds)\n",
    "rf_cm = confusion_matrix(y_test, rf_preds)\n",
    "\n",
    "print(f\"nb confusion matrix: \\n {nb_cm}\\n\")\n",
    "print(f\"dt confusion matrix: \\n {dt_cm}\\n\")\n",
    "print(f\"rf confusion matrix: \\n {rf_cm}\\n\")"
   ]
  }
 ],
 "metadata": {
  "kernelspec": {
   "display_name": "Python 3 (ipykernel)",
   "language": "python",
   "name": "python3"
  },
  "language_info": {
   "codemirror_mode": {
    "name": "ipython",
    "version": 3
   },
   "file_extension": ".py",
   "mimetype": "text/x-python",
   "name": "python",
   "nbconvert_exporter": "python",
   "pygments_lexer": "ipython3",
   "version": "3.8.10"
  }
 },
 "nbformat": 4,
 "nbformat_minor": 4
}
