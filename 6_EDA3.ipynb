{
 "cells": [
  {
   "cell_type": "code",
   "execution_count": 1,
   "id": "604f236b-da88-4cfa-9c95-b16f6ab50cdc",
   "metadata": {},
   "outputs": [
    {
     "name": "stdout",
     "output_type": "stream",
     "text": [
      "%pylab is deprecated, use %matplotlib inline and import the required libraries.\n",
      "Populating the interactive namespace from numpy and matplotlib\n"
     ]
    },
    {
     "name": "stderr",
     "output_type": "stream",
     "text": [
      "/usr/local/lib/python3.8/dist-packages/IPython/core/magics/pylab.py:162: UserWarning: pylab import has clobbered these variables: ['pylab']\n",
      "`%matplotlib` prevents importing * from pylab and numpy\n",
      "  warn(\"pylab import has clobbered these variables: %s\"  % clobbered +\n"
     ]
    }
   ],
   "source": [
    "import pandas as pd\n",
    "import pylab\n",
    "import sklearn as sk\n",
    "%pylab inline\n",
    "\n",
    "df = pd.read_csv('./data/card_transdata.csv')\n",
    "\n",
    "#separate \"fraud\" column (class label)\n",
    "X = df.drop(\"fraud\", axis=1)\n",
    "y = df[\"fraud\"]"
   ]
  },
  {
   "cell_type": "code",
   "execution_count": 9,
   "id": "ad776522-3b62-4e97-84b7-b0dc5a5d33ea",
   "metadata": {},
   "outputs": [
    {
     "name": "stdout",
     "output_type": "stream",
     "text": [
      "Permutation Feature Importance results:\n",
      "Dropping distance_from_home: 0.112\n",
      "Dropping distance_from_last_transaction: 0.037\n",
      "Dropping ratio_to_median_purchase_price: 0.350\n",
      "Dropping repeat_retailer: 0.015\n",
      "Dropping used_chip: 0.051\n",
      "Dropping used_pin_number: 0.052\n",
      "Dropping online_order: 0.162\n"
     ]
    }
   ],
   "source": [
    "from sklearn.tree import DecisionTreeClassifier\n",
    "from sklearn.inspection import permutation_importance\n",
    "from sklearn.model_selection import train_test_split\n",
    "\n",
    "#divide the dataset into train and test data set\n",
    "X_train, X_test, y_train, y_test = train_test_split(X, y, test_size=0.2, random_state=22, stratify=y)\n",
    "\n",
    "#train RandomForest model\n",
    "dt_model = DecisionTreeClassifier().fit(X_train, y_train)\n",
    "\n",
    "result = permutation_importance(dt_model, X_test, y_test, n_repeats=10, random_state=42, scoring='recall_macro')\n",
    "\n",
    "print(\"Permutation Feature Importance results:\")\n",
    "importances = result.importances_mean\n",
    "for i, col in enumerate(X_test.columns):\n",
    "    print(f\"Dropping {col}: {importances[i]:.3f}\")"
   ]
  },
  {
   "cell_type": "raw",
   "id": "f31339b7-d65a-4978-8544-b5ee51a0f20b",
   "metadata": {},
   "source": [
    "1. Permutation Feature Importance\n",
    "    a. This technique works by randomly shuffling (permuting) the values of each feature and seeing how much the model performance drops. \n",
    "    b. If shuffling a feature causes a big decrease in accuracy, it’s important.\n",
    "2. n_repeats controls how many times each feature is randomly shuffled to estimate the importance reliably.\n",
    "3. How does permutation_importance work?\n",
    "    a. The function first computes the model’s original score on the test data (e.g., accuracy, or another metric you specify).\n",
    "    b. For each feature (column): It randomly shuffles the values of just that feature in the test set (leaving all others unchanged). This breaks the relationship between that feature and the target variable.\n",
    "    c. Model prediction: The model makes predictions using this “corrupted” data. The function computes the new score (after shuffling that one feature).\n",
    "    d. Importance Calculation: The importance of the feature is the drop in performance (original score minus shuffled score).\n",
    "    e. This process is repeated n_repeats times for each feature, and the mean drop is reported."
   ]
  },
  {
   "cell_type": "code",
   "execution_count": null,
   "id": "00b76314-a813-4ab8-a230-cde3fe19df6b",
   "metadata": {},
   "outputs": [],
   "source": []
  }
 ],
 "metadata": {
  "kernelspec": {
   "display_name": "Python 3 (ipykernel)",
   "language": "python",
   "name": "python3"
  },
  "language_info": {
   "codemirror_mode": {
    "name": "ipython",
    "version": 3
   },
   "file_extension": ".py",
   "mimetype": "text/x-python",
   "name": "python",
   "nbconvert_exporter": "python",
   "pygments_lexer": "ipython3",
   "version": "3.8.10"
  }
 },
 "nbformat": 4,
 "nbformat_minor": 5
}
